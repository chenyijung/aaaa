{
 "cells": [
  {
   "cell_type": "code",
   "execution_count": 14,
   "metadata": {},
   "outputs": [
    {
     "name": "stdout",
     "output_type": "stream",
     "text": [
      "-設定檔上傳結果\n",
      "richmenu-ea9ae24f5f36406088268cc16dfea42c\n"
     ]
    },
    {
     "ename": "LineBotApiError",
     "evalue": "LineBotApiError: status_code=400, request_id=fa20a1a1-7291-45d1-9f6a-64c0a40502c8, error_response={\"details\": [], \"message\": \"The image size is not allowed for richmenu\"}, headers={'Server': 'nginx', 'Date': 'Tue, 17 Dec 2019 08:05:01 GMT', 'Content-Type': 'application/json;charset=UTF-8', 'Transfer-Encoding': 'chunked', 'Connection': 'keep-alive', 'x-line-request-id': 'fa20a1a1-7291-45d1-9f6a-64c0a40502c8', 'x-content-type-options': 'nosniff', 'x-xss-protection': '1; mode=block', 'cache-control': 'no-cache, no-store, max-age=0, must-revalidate', 'pragma': 'no-cache', 'expires': '0', 'x-frame-options': 'DENY'}",
     "output_type": "error",
     "traceback": [
      "\u001b[0;31m---------------------------------------------------------------------------\u001b[0m",
      "\u001b[0;31mLineBotApiError\u001b[0m                           Traceback (most recent call last)",
      "\u001b[0;32m<ipython-input-14-110564cf1d2d>\u001b[0m in \u001b[0;36m<module>\u001b[0;34m\u001b[0m\n\u001b[1;32m     39\u001b[0m     \u001b[0mset_image_response\u001b[0m\u001b[0;34m=\u001b[0m\u001b[0;34m''\u001b[0m\u001b[0;34m\u001b[0m\u001b[0;34m\u001b[0m\u001b[0m\n\u001b[1;32m     40\u001b[0m     \u001b[0;32mwith\u001b[0m \u001b[0mopen\u001b[0m\u001b[0;34m(\u001b[0m\u001b[0;34m\"素材/\"\u001b[0m\u001b[0;34m+\u001b[0m\u001b[0mrich_menu_name\u001b[0m\u001b[0;34m+\u001b[0m\u001b[0;34m'/rich_menu.jpg'\u001b[0m\u001b[0;34m,\u001b[0m \u001b[0;34m'rb'\u001b[0m\u001b[0;34m)\u001b[0m \u001b[0;32mas\u001b[0m \u001b[0mf\u001b[0m\u001b[0;34m:\u001b[0m\u001b[0;34m\u001b[0m\u001b[0;34m\u001b[0m\u001b[0m\n\u001b[0;32m---> 41\u001b[0;31m         \u001b[0mset_image_response\u001b[0m\u001b[0;34m=\u001b[0m\u001b[0mline_bot_api\u001b[0m\u001b[0;34m.\u001b[0m\u001b[0mset_rich_menu_image\u001b[0m\u001b[0;34m(\u001b[0m\u001b[0mlineRichMenuId\u001b[0m\u001b[0;34m,\u001b[0m \u001b[0;34m'image/jpeg'\u001b[0m\u001b[0;34m,\u001b[0m \u001b[0mf\u001b[0m\u001b[0;34m)\u001b[0m\u001b[0;34m\u001b[0m\u001b[0;34m\u001b[0m\u001b[0m\n\u001b[0m\u001b[1;32m     42\u001b[0m \u001b[0;34m\u001b[0m\u001b[0m\n\u001b[1;32m     43\u001b[0m     \u001b[0mprint\u001b[0m\u001b[0;34m(\u001b[0m\u001b[0;34m\"-圖片上傳結果\"\u001b[0m\u001b[0;34m)\u001b[0m\u001b[0;34m\u001b[0m\u001b[0;34m\u001b[0m\u001b[0m\n",
      "\u001b[0;32m/opt/conda/lib/python3.7/site-packages/linebot/api.py\u001b[0m in \u001b[0;36mset_rich_menu_image\u001b[0;34m(self, rich_menu_id, content_type, content, timeout)\u001b[0m\n\u001b[1;32m    698\u001b[0m             \u001b[0mdata\u001b[0m\u001b[0;34m=\u001b[0m\u001b[0mcontent\u001b[0m\u001b[0;34m,\u001b[0m\u001b[0;34m\u001b[0m\u001b[0;34m\u001b[0m\u001b[0m\n\u001b[1;32m    699\u001b[0m             \u001b[0mheaders\u001b[0m\u001b[0;34m=\u001b[0m\u001b[0;34m{\u001b[0m\u001b[0;34m'Content-Type'\u001b[0m\u001b[0;34m:\u001b[0m \u001b[0mcontent_type\u001b[0m\u001b[0;34m}\u001b[0m\u001b[0;34m,\u001b[0m\u001b[0;34m\u001b[0m\u001b[0;34m\u001b[0m\u001b[0m\n\u001b[0;32m--> 700\u001b[0;31m             \u001b[0mtimeout\u001b[0m\u001b[0;34m=\u001b[0m\u001b[0mtimeout\u001b[0m\u001b[0;34m\u001b[0m\u001b[0;34m\u001b[0m\u001b[0m\n\u001b[0m\u001b[1;32m    701\u001b[0m         )\n\u001b[1;32m    702\u001b[0m \u001b[0;34m\u001b[0m\u001b[0m\n",
      "\u001b[0;32m/opt/conda/lib/python3.7/site-packages/linebot/api.py\u001b[0m in \u001b[0;36m_post\u001b[0;34m(self, path, endpoint, data, headers, timeout)\u001b[0m\n\u001b[1;32m    994\u001b[0m         )\n\u001b[1;32m    995\u001b[0m \u001b[0;34m\u001b[0m\u001b[0m\n\u001b[0;32m--> 996\u001b[0;31m         \u001b[0mself\u001b[0m\u001b[0;34m.\u001b[0m\u001b[0m__check_error\u001b[0m\u001b[0;34m(\u001b[0m\u001b[0mresponse\u001b[0m\u001b[0;34m)\u001b[0m\u001b[0;34m\u001b[0m\u001b[0;34m\u001b[0m\u001b[0m\n\u001b[0m\u001b[1;32m    997\u001b[0m         \u001b[0;32mreturn\u001b[0m \u001b[0mresponse\u001b[0m\u001b[0;34m\u001b[0m\u001b[0;34m\u001b[0m\u001b[0m\n\u001b[1;32m    998\u001b[0m \u001b[0;34m\u001b[0m\u001b[0m\n",
      "\u001b[0;32m/opt/conda/lib/python3.7/site-packages/linebot/api.py\u001b[0m in \u001b[0;36m__check_error\u001b[0;34m(response)\u001b[0m\n\u001b[1;32m   1020\u001b[0m                 \u001b[0mheaders\u001b[0m\u001b[0;34m=\u001b[0m\u001b[0mdict\u001b[0m\u001b[0;34m(\u001b[0m\u001b[0mresponse\u001b[0m\u001b[0;34m.\u001b[0m\u001b[0mheaders\u001b[0m\u001b[0;34m.\u001b[0m\u001b[0mitems\u001b[0m\u001b[0;34m(\u001b[0m\u001b[0;34m)\u001b[0m\u001b[0;34m)\u001b[0m\u001b[0;34m,\u001b[0m\u001b[0;34m\u001b[0m\u001b[0;34m\u001b[0m\u001b[0m\n\u001b[1;32m   1021\u001b[0m                 \u001b[0mrequest_id\u001b[0m\u001b[0;34m=\u001b[0m\u001b[0mresponse\u001b[0m\u001b[0;34m.\u001b[0m\u001b[0mheaders\u001b[0m\u001b[0;34m.\u001b[0m\u001b[0mget\u001b[0m\u001b[0;34m(\u001b[0m\u001b[0;34m'X-Line-Request-Id'\u001b[0m\u001b[0;34m)\u001b[0m\u001b[0;34m,\u001b[0m\u001b[0;34m\u001b[0m\u001b[0;34m\u001b[0m\u001b[0m\n\u001b[0;32m-> 1022\u001b[0;31m                 \u001b[0merror\u001b[0m\u001b[0;34m=\u001b[0m\u001b[0mError\u001b[0m\u001b[0;34m.\u001b[0m\u001b[0mnew_from_json_dict\u001b[0m\u001b[0;34m(\u001b[0m\u001b[0mresponse\u001b[0m\u001b[0;34m.\u001b[0m\u001b[0mjson\u001b[0m\u001b[0;34m)\u001b[0m\u001b[0;34m\u001b[0m\u001b[0;34m\u001b[0m\u001b[0m\n\u001b[0m\u001b[1;32m   1023\u001b[0m             )\n",
      "\u001b[0;31mLineBotApiError\u001b[0m: LineBotApiError: status_code=400, request_id=fa20a1a1-7291-45d1-9f6a-64c0a40502c8, error_response={\"details\": [], \"message\": \"The image size is not allowed for richmenu\"}, headers={'Server': 'nginx', 'Date': 'Tue, 17 Dec 2019 08:05:01 GMT', 'Content-Type': 'application/json;charset=UTF-8', 'Transfer-Encoding': 'chunked', 'Connection': 'keep-alive', 'x-line-request-id': 'fa20a1a1-7291-45d1-9f6a-64c0a40502c8', 'x-content-type-options': 'nosniff', 'x-xss-protection': '1; mode=block', 'cache-control': 'no-cache, no-store, max-age=0, must-revalidate', 'pragma': 'no-cache', 'expires': '0', 'x-frame-options': 'DENY'}"
     ]
    }
   ],
   "source": [
    "'''\n",
    "迴圈讀取本地列表，\n",
    "    上傳設定檔，取得id，並將id寫入檔案中，而後上傳圖片\n",
    "\n",
    "'''\n",
    "\n",
    "import json\n",
    "from linebot import LineBotApi\n",
    "\n",
    "# 載入安全設定檔\n",
    "secretFileContentJson=json.load(open(\"./line_secret_key\",'r',encoding='utf8'))\n",
    "line_bot_api = LineBotApi(secretFileContentJson.get(\"channel_access_token\"))\n",
    "\n",
    "\n",
    "\n",
    "'''\n",
    "rich_menu的本地列表\n",
    "'''\n",
    "rich_menu_array=['rich_menu_0','rich_menu_1','rich_menu_2','rich_menu_3']\n",
    "\n",
    "from linebot.models import RichMenu\n",
    "\n",
    "for rich_menu_name in rich_menu_array:\n",
    "\n",
    "    \n",
    "    # 創建菜單，取得menuId\n",
    "    lineRichMenuId = line_bot_api.create_rich_menu(rich_menu=RichMenu.new_from_json_dict(json.load(open(\"素材/\"+rich_menu_name+'/rich_menu.json','r',encoding='utf8'))))\n",
    "    print(\"-設定檔上傳結果\")\n",
    "    print(lineRichMenuId)\n",
    "\n",
    "                                           \n",
    "    # id寫入本地端                              \n",
    "    f = open(\"素材/\"+rich_menu_name+\"/rich_menu_id\", \"w\",encoding='utf8')\n",
    "    f.write(lineRichMenuId)\n",
    "    f.close()                                       \n",
    " \n",
    "\n",
    "    # 上傳照片至該id\n",
    "    set_image_response=''\n",
    "    with open(\"素材/\"+rich_menu_name+'/rich_menu.jpg', 'rb') as f:\n",
    "        set_image_response=line_bot_api.set_rich_menu_image(lineRichMenuId, 'image/jpeg', f)\n",
    "        \n",
    "    print(\"-圖片上傳結果\")                                               \n",
    "    print(set_image_response)\n",
    "                                                                 \n"
   ]
  },
  {
   "cell_type": "code",
   "execution_count": 11,
   "metadata": {},
   "outputs": [
    {
     "data": {
      "text/plain": [
       "[{\"areas\": [{\"action\": {\"text\": \"[::text:]\\u50b3\\u7d71\\u4ea4\\u6613\", \"type\": \"message\"}, \"bounds\": {\"height\": 850, \"width\": 824, \"x\": 5, \"y\": 0}}, {\"action\": {\"text\": \"[::text:]\\u7b2c\\u4e09\\u65b9\\u516c\\u8b49\\u4eba\", \"type\": \"message\"}, \"bounds\": {\"height\": 818, \"width\": 825, \"x\": 0, \"y\": 850}}, {\"action\": {\"text\": \"[::text:]\\u591a\\u4f4d\\u516c\\u8b49\\u4eba\", \"type\": \"message\"}, \"bounds\": {\"height\": 849, \"width\": 871, \"x\": 829, \"y\": 5}}, {\"action\": {\"text\": \"[::text:]\\u591a\\u7d44\\u7e54\\u591a\\u4f4d\\u516c\\u8b49\\u4eba\", \"type\": \"message\"}, \"bounds\": {\"height\": 814, \"width\": 875, \"x\": 825, \"y\": 854}}, {\"action\": {\"text\": \"[::text:]\\u6559\\u5b78\\u8a0a\\u606f\", \"type\": \"message\"}, \"bounds\": {\"height\": 858, \"width\": 800, \"x\": 1700, \"y\": 0}}, {\"action\": {\"text\": \"[::text:]more\", \"type\": \"message\"}, \"bounds\": {\"height\": 810, \"width\": 800, \"x\": 1700, \"y\": 858}}], \"chatBarText\": \"\\u67e5\\u770b\\u66f4\\u591a\\u8cc7\\u8a0a\", \"name\": \"\\u5340\\u584a\\u93c8\\u81ea\\u5b9a\\u7fa9\\u83dc\\u55ae\", \"richMenuId\": \"richmenu-277846440058c3b1851abe4bc009216a\", \"selected\": true, \"size\": {\"height\": 1686, \"width\": 2500}},\n",
       " {\"areas\": [{\"action\": {\"text\": \"[::text:]\\u50b3\\u7d71\\u4ea4\\u6613\", \"type\": \"message\"}, \"bounds\": {\"height\": 850, \"width\": 824, \"x\": 5, \"y\": 0}}, {\"action\": {\"text\": \"[::text:]\\u7b2c\\u4e09\\u65b9\\u516c\\u8b49\\u4eba\", \"type\": \"message\"}, \"bounds\": {\"height\": 818, \"width\": 825, \"x\": 0, \"y\": 850}}, {\"action\": {\"text\": \"[::text:]\\u591a\\u4f4d\\u516c\\u8b49\\u4eba\", \"type\": \"message\"}, \"bounds\": {\"height\": 849, \"width\": 871, \"x\": 829, \"y\": 5}}, {\"action\": {\"text\": \"[::text:]\\u591a\\u7d44\\u7e54\\u591a\\u4f4d\\u516c\\u8b49\\u4eba\", \"type\": \"message\"}, \"bounds\": {\"height\": 814, \"width\": 875, \"x\": 825, \"y\": 854}}, {\"action\": {\"text\": \"[::text:]\\u6559\\u5b78\\u8a0a\\u606f\", \"type\": \"message\"}, \"bounds\": {\"height\": 858, \"width\": 800, \"x\": 1700, \"y\": 0}}, {\"action\": {\"text\": \"[::text:]more\", \"type\": \"message\"}, \"bounds\": {\"height\": 810, \"width\": 800, \"x\": 1700, \"y\": 858}}], \"chatBarText\": \"\\u67e5\\u770b\\u66f4\\u591a\\u8cc7\\u8a0a\", \"name\": \"\\u5340\\u584a\\u93c8\\u81ea\\u5b9a\\u7fa9\\u83dc\\u55ae\", \"richMenuId\": \"richmenu-2a9aaf8131ebf692d5415ba532cdd44d\", \"selected\": true, \"size\": {\"height\": 1686, \"width\": 2500}},\n",
       " {\"areas\": [{\"action\": {\"text\": \"[::text:]\\u50b3\\u7d71\\u4ea4\\u6613\", \"type\": \"message\"}, \"bounds\": {\"height\": 850, \"width\": 824, \"x\": 5, \"y\": 0}}, {\"action\": {\"text\": \"[::text:]\\u7b2c\\u4e09\\u65b9\\u516c\\u8b49\\u4eba\", \"type\": \"message\"}, \"bounds\": {\"height\": 818, \"width\": 825, \"x\": 0, \"y\": 850}}, {\"action\": {\"text\": \"[::text:]\\u591a\\u4f4d\\u516c\\u8b49\\u4eba\", \"type\": \"message\"}, \"bounds\": {\"height\": 849, \"width\": 871, \"x\": 829, \"y\": 5}}, {\"action\": {\"text\": \"[::text:]\\u591a\\u7d44\\u7e54\\u591a\\u4f4d\\u516c\\u8b49\\u4eba\", \"type\": \"message\"}, \"bounds\": {\"height\": 814, \"width\": 875, \"x\": 825, \"y\": 854}}, {\"action\": {\"text\": \"[::text:]\\u6559\\u5b78\\u8a0a\\u606f\", \"type\": \"message\"}, \"bounds\": {\"height\": 858, \"width\": 800, \"x\": 1700, \"y\": 0}}, {\"action\": {\"text\": \"[::text:]more\", \"type\": \"message\"}, \"bounds\": {\"height\": 810, \"width\": 800, \"x\": 1700, \"y\": 858}}], \"chatBarText\": \"\\u67e5\\u770b\\u66f4\\u591a\\u8cc7\\u8a0a\", \"name\": \"\\u5340\\u584a\\u93c8\\u81ea\\u5b9a\\u7fa9\\u83dc\\u55ae\", \"richMenuId\": \"richmenu-8906f5f95d8e4f0c3a711504b5204f7a\", \"selected\": true, \"size\": {\"height\": 1686, \"width\": 2500}}]"
      ]
     },
     "execution_count": 11,
     "metadata": {},
     "output_type": "execute_result"
    }
   ],
   "source": [
    "'''\n",
    "\n",
    "查詢帳號內擁有的richmenu \n",
    "\n",
    "'''\n",
    "\n",
    "from linebot import (\n",
    "    LineBotApi\n",
    ")\n",
    "\n",
    "import json\n",
    "\n",
    "secretFileContentJson=json.load(open(\"./line_secret_key\",'r',encoding='utf8'))\n",
    "line_bot_api = LineBotApi(secretFileContentJson.get(\"channel_access_token\"))\n",
    "\n",
    "line_bot_api.get_rich_menu_list()\n"
   ]
  },
  {
   "cell_type": "code",
   "execution_count": null,
   "metadata": {},
   "outputs": [],
   "source": [
    "'''\n",
    "\n",
    "移除帳號內的richmenu\n",
    "\n",
    "'''\n",
    "\n",
    "from linebot import (\n",
    "    LineBotApi\n",
    ")\n",
    "\n",
    "import json\n",
    "secretFileContentJson=json.load(open(\"./line_secret_key\",'r',encoding='utf8'))\n",
    "line_bot_api = LineBotApi(secretFileContentJson.get(\"channel_access_token\"))\n",
    "\n",
    "# 設定要移除的rich_menu\n",
    "rich_menu_name_array = [\"rich_menu_0\"]\n",
    "\n",
    "for rich_menu_name in rich_menu_name_array:\n",
    "    \n",
    "    # 讀取rich_menu_id檔案，並告知 Line 進行刪除，並在刪除後，把本地檔案內容清除\n",
    "    with open(\"素材/\"+rich_menu_name+'/rich_menu_id', 'r') as myfile:\n",
    "        rich_menu_id = myfile.read()\n",
    "        deleteResult = line_bot_api.delete_rich_menu(rich_menu_id)\n",
    "        print(deleteResult)\n",
    "        \n",
    "    f = open(\"素材/\"+rich_menu_name+\"/rich_menu_id\", \"w\")\n",
    "    f.write('')\n",
    "    f.close() "
   ]
  },
  {
   "cell_type": "code",
   "execution_count": 5,
   "metadata": {},
   "outputs": [],
   "source": [
    "'''\n",
    "\n",
    "解除用戶綁定\n",
    "\n",
    "'''\n",
    "\n",
    "from linebot import (\n",
    "    LineBotApi\n",
    ")\n",
    "\n",
    "import json\n",
    "\n",
    "# rich_menu_id_array = [\"rich_menu_0\"]\n",
    "\n",
    "secretFileContentJson=json.load(open(\"./line_secret_key\",'r',encoding='utf8'))\n",
    "line_bot_api = LineBotApi(secretFileContentJson.get(\"channel_access_token\"))\n",
    "\n",
    "self_user_id='Ud29c5cf085e845db7c6457677116df4d'\n",
    "line_bot_api.unlink_rich_menu_from_user(self_user_id)"
   ]
  },
  {
   "cell_type": "code",
   "execution_count": 19,
   "metadata": {},
   "outputs": [],
   "source": [
    "'''\n",
    "\n",
    "綁定個人用戶進行測試\n",
    "\n",
    "'''\n",
    "\n",
    "from linebot import (\n",
    "    LineBotApi\n",
    ")\n",
    "\n",
    "import json\n",
    "\n",
    "# rich_menu_id_array = [\"rich_menu_0\"]\n",
    "\n",
    "secretFileContentJson=json.load(open(\"./line_secret_key\",'r',encoding='utf8'))\n",
    "line_bot_api = LineBotApi(secretFileContentJson.get(\"channel_access_token\"))\n",
    "\n",
    "self_user_id='Ud29c5cf085e845db7c6457677116df4d'\n",
    "rich_menu_id='richmenu-62d1b8717117640cdb9910e273452d35'\n",
    "\n",
    "line_bot_api.unlink_rich_menu_from_user(self_user_id)\n",
    "line_bot_api.link_rich_menu_to_user(self_user_id,rich_menu_id)"
   ]
  },
  {
   "cell_type": "code",
   "execution_count": null,
   "metadata": {},
   "outputs": [],
   "source": []
  }
 ],
 "metadata": {
  "kernelspec": {
   "display_name": "Python 3",
   "language": "python",
   "name": "python3"
  },
  "language_info": {
   "codemirror_mode": {
    "name": "ipython",
    "version": 3
   },
   "file_extension": ".py",
   "mimetype": "text/x-python",
   "name": "python",
   "nbconvert_exporter": "python",
   "pygments_lexer": "ipython3",
   "version": "3.7.3"
  }
 },
 "nbformat": 4,
 "nbformat_minor": 2
}
